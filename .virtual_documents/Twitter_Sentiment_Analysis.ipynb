# python packages
!pip install spacy
!python -m spacy download en_core_web_sm
!pip install nltk
!pip install beautifulsoup4
!pip install textblob


import warnings
warnings.filterwarnings('ignore')

import pandas as pd


df = pd.read_csv('https://raw.githubusercontent.com/laxmimerit/All-CSV-ML-Data-Files-Download/refs/heads/master/twitter_sentiment.csv', header=None, index_col=0)
df.head()


df = df[[2,3]].reset_index(drop=True)
df.head()


df.columns = ['sentiment', 'text']
df.head()


df.info()





df.isnull().sum()


# we need to filter out all the NULL texts
df.dropna(inplace=True)
df['text'].apply(len)



